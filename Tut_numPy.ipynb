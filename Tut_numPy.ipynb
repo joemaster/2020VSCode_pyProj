{
 "metadata": {
  "language_info": {
   "codemirror_mode": {
    "name": "ipython",
    "version": 3
   },
   "file_extension": ".py",
   "mimetype": "text/x-python",
   "name": "python",
   "nbconvert_exporter": "python",
   "pygments_lexer": "ipython3",
   "version": "3.7.3-final"
  },
  "orig_nbformat": 2,
  "kernelspec": {
   "name": "python_defaultSpec_1598208749693",
   "display_name": "Python 3.7.3 64-bit"
  }
 },
 "nbformat": 4,
 "nbformat_minor": 2,
 "cells": [
  {
   "cell_type": "code",
   "execution_count": 1,
   "metadata": {
    "tags": []
   },
   "outputs": [
    {
     "output_type": "stream",
     "name": "stdout",
     "text": "The history saving thread hit an unexpected error (OperationalError('database is locked')).History will not be written to the database.\n\u001b[33mWARNING: Retrying (Retry(total=4, connect=None, read=None, redirect=None, status=None)) after connection broken by 'ReadTimeoutError(\"HTTPSConnectionPool(host='pypi.org', port=443): Read timed out. (read timeout=15)\")': /simple/pip/\u001b[0m\nRequirement already up-to-date: pip in /Users/joemaster/miniconda3/envs/myenv/lib/python3.7/site-packages (20.2.2)\nRequirement already satisfied: numpy in /Users/joemaster/miniconda3/envs/myenv/lib/python3.7/site-packages (1.18.5)\nRequirement already satisfied: scipy in /Users/joemaster/miniconda3/envs/myenv/lib/python3.7/site-packages (1.5.0)\nRequirement already satisfied: matplotlib in /Users/joemaster/miniconda3/envs/myenv/lib/python3.7/site-packages (3.2.2)\nRequirement already satisfied: pandas in /Users/joemaster/miniconda3/envs/myenv/lib/python3.7/site-packages (0.24.2)\nCollecting sympy\n  Downloading sympy-1.6.2-py3-none-any.whl (5.8 MB)\n\u001b[K     |████████████████████████████████| 5.8 MB 185 kB/s \n\u001b[?25hCollecting nose\n  Downloading nose-1.3.7-py3-none-any.whl (154 kB)\n\u001b[K     |████████████████████████████████| 154 kB 15 kB/s \n\u001b[?25hRequirement already satisfied: pyparsing!=2.0.4,!=2.1.2,!=2.1.6,>=2.0.1 in /Users/joemaster/miniconda3/envs/myenv/lib/python3.7/site-packages (from matplotlib) (2.4.7)\nRequirement already satisfied: python-dateutil>=2.1 in /Users/joemaster/miniconda3/envs/myenv/lib/python3.7/site-packages (from matplotlib) (2.8.1)\nRequirement already satisfied: kiwisolver>=1.0.1 in /Users/joemaster/miniconda3/envs/myenv/lib/python3.7/site-packages (from matplotlib) (1.2.0)\nRequirement already satisfied: cycler>=0.10 in /Users/joemaster/miniconda3/envs/myenv/lib/python3.7/site-packages (from matplotlib) (0.10.0)\nRequirement already satisfied: pytz>=2011k in /Users/joemaster/miniconda3/envs/myenv/lib/python3.7/site-packages (from pandas) (2020.1)\nCollecting mpmath>=0.19\n  Downloading mpmath-1.1.0.tar.gz (512 kB)\n\u001b[K     |████████████████████████████████| 512 kB 8.1 MB/s \n\u001b[?25hRequirement already satisfied: six>=1.5 in /Users/joemaster/miniconda3/envs/myenv/lib/python3.7/site-packages (from python-dateutil>=2.1->matplotlib) (1.12.0)\nBuilding wheels for collected packages: mpmath\n  Building wheel for mpmath (setup.py) ... \u001b[?25ldone\n\u001b[?25h  Created wheel for mpmath: filename=mpmath-1.1.0-py3-none-any.whl size=532239 sha256=5c8917a970ccaf49ce2f121844dd796bdb167ff31bde3371b6e2bb84c9b62f33\n  Stored in directory: /Users/joemaster/Library/Caches/pip/wheels/e2/46/78/e78f76c356bca9277368f1f97a31b37a8cb937176d9511af31\nSuccessfully built mpmath\nInstalling collected packages: mpmath, sympy, nose\n\u001b[33m  WARNING: The script isympy is installed in '/Users/joemaster/.local/bin' which is not on PATH.\n  Consider adding this directory to PATH or, if you prefer to suppress this warning, use --no-warn-script-location.\u001b[0m\n\u001b[33m  WARNING: The scripts nosetests and nosetests-3.4 are installed in '/Users/joemaster/.local/bin' which is not on PATH.\n  Consider adding this directory to PATH or, if you prefer to suppress this warning, use --no-warn-script-location.\u001b[0m\nSuccessfully installed mpmath-1.1.0 nose-1.3.7 sympy-1.6.2\n"
    }
   ],
   "source": [
    "!python3 -m pip install --user --upgrade pip\n",
    "!python3 -m pip install --user numpy scipy matplotlib pandas sympy nose"
   ]
  },
  {
   "cell_type": "code",
   "execution_count": 4,
   "metadata": {},
   "outputs": [],
   "source": [
    "import numpy as np\n",
    "import pandas as pd"
   ]
  },
  {
   "cell_type": "code",
   "execution_count": 5,
   "metadata": {
    "tags": []
   },
   "outputs": [
    {
     "output_type": "stream",
     "name": "stdout",
     "text": "[[ 1  2  3  4  5]\n [ 6  7  8  9 10]]\n"
    }
   ],
   "source": [
    "a = np.array([[1,2,3,4,5],[6,7,8,9,10]],dtype = int, ndmin=2)\n",
    "print(a)"
   ]
  },
  {
   "cell_type": "code",
   "execution_count": 6,
   "metadata": {
    "tags": []
   },
   "outputs": [
    {
     "output_type": "stream",
     "name": "stdout",
     "text": "[('name', 'S20'), ('age', 'i1'), ('marks', '<f4')]\n"
    }
   ],
   "source": [
    "student = np.dtype([('name','S20'),('age','i1'),('marks','f4')])\n",
    "print(student)"
   ]
  },
  {
   "cell_type": "code",
   "execution_count": 8,
   "metadata": {
    "tags": []
   },
   "outputs": [
    {
     "output_type": "stream",
     "name": "stdout",
     "text": "[(b'jose', 38, 90.) (b'monette', 35, 95.) (b'rhein', 12, 91.)\n (b'zoey',  8, 91.)]\n"
    }
   ],
   "source": [
    "a = np.array([('jose',38,90),('monette',35,95),('rhein',12,91),('zoey',8,91)],dtype=student)\n",
    "print(a)"
   ]
  },
  {
   "cell_type": "code",
   "execution_count": null,
   "metadata": {},
   "outputs": [],
   "source": []
  }
 ]
}